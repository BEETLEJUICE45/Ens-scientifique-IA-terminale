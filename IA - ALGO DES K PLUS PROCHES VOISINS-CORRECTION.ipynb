{
 "cells": [
  {
   "cell_type": "markdown",
   "metadata": {},
   "source": [
    "# L'Intelligence Artificielle à partir d'un exemple d'application sur smartphone.\n",
    "\n",
    "<div class=\"alert alert-block alert-info\">\n",
    "    \n",
    "Ce document est un NOTEBOOK JUPYTER. Il est constitué de cellules qui contiennent:\n",
    "* soit du texte formaté, comme la cellule que vous lisez actuellement.\n",
    "* soit du code python.\n",
    "\n",
    "Ces cellules sont executables et éditables.\n",
    "* Pour éditer une cellule de texte, double clic dessus. Pour l'exécuter MAJ + ENTREE du clavier (met en forme le texte).\n",
    "* Les cellules de code sont toujours en mode édition; MAJ + ENTREE permet d'éxecuter le code PYTHON.\n",
    "\n",
    "* Si la réponse demandée est du texte, éditez la cellule prévue pour la réponse et écrivez votre réponse.\n",
    "* Si la réponse demandée est du code, remplacez le texte **#votre code** par votre code.\n",
    "</div>"
   ]
  },
  {
   "cell_type": "markdown",
   "metadata": {},
   "source": [
    "# L'application Pl@ntNet\n",
    "\n",
    "Nous allons commencer à partir d'un exemple d'utilisation de l'Intelligence Artificielle dans une application très utilisée actuellement : ![PlantNet](plantnet.png)\n",
    "\n",
    "Cette application permet la reconnaisance d'espèces et de variétés végétales à partir de photos. Le rôle de l'Intelligence Artificielle dans cette application est de \"deviner\" l'espèce végétale sur une photo. Elle s'appuie sur une base de données de photos identifiées lui servant de modèle d'apprentissage.\n",
    "\n",
    "Un traitement préalable de la photo est necessaire afin de faire ressortir du cliché des \"éléments fondamentaux\". On peut effectivement supposer que les notions de forme, de couleur, de taille peuvent être (parmi beaucoup d'autres) des éléments essentiels de la reconnaissance d'une plante.\n",
    "\n",
    "Les algorithmes mis en œuvre sont issus des recherches en analyse et en gestion de données visuelles. Chaque image de la base de données est représentée par un certain nombre d’attributs visuels qui permettent de distinguer une espèce d’une autre. Afin de sélectionner les attributs les plus discriminants, ceux-ci sont appris par des techniques d’intelligence artificielle appelées réseaux de neurones convolutionnels.  Ils peuvent caractériser aussi bien des traits assez généraux comme la couleur de la fleur ou la forme générale de la feuille, que des détails subtils comme la forme de la pointe des pétales de la fleur ou la présence d’une légère pilosité sur la marge des feuilles.\n",
    "\n",
    "Le premier objectif de l'activité suivante va être d'essayer de comprendre comment fonctionne cette reconnaissance et cet apprentissage machine à partir d'un exemple concret d'alogorithme : l'algorithme des k plus proches voisins qui est un algorithme simple d'apprentissage machine (machine learning), assez efficace en ce qui concerne la reconnaissance de formes.\n",
    "\n",
    "<div class=\"alert alert-block alert-info\">\n",
    "    \n",
    "L’algorithme des k plus proches voisins est un des plus anciens mais aussi un des plus efficaces de l’intelligence artificielle, plus précisément de l’apprentissage automatique.\n",
    "</div>"
   ]
  },
  {
   "cell_type": "markdown",
   "metadata": {},
   "source": [
    "## Principe de l'algorithme des k plus proches voisins.\n",
    "\n",
    "On utilise pour commencer un ensemble d'apprentissage. On va partir du principe que nous avons un jeu de données contenant deux groupes : un groupe avec l'étiquette bleue, l'autre groupe avec l'étiquette rouge. Ces deux groupes ont chacun des caractéristiques (descripteurs) qui les placent soit dans les bleus soit dans les rouges. Une représentation graphique de ces deux groupes donnerait ainsi quelque chose comme ça :\n",
    "\n",
    "![jeu-apprentissage](jeu-app.png)\n",
    "\n",
    "Pour un ensemble de données étiquetées $ D = \\{(x_1,e_1),...,(x_n,e_n)\\} $, les coordonnées $ x_i $ s'appellent des __*descripteurs*__ et l'élément $ e_i $ s'appelle l'__*étiquette*__ ou le __*label*__.\n",
    "\n",
    "L'**objectif** est de, à partir de cet ensemble d’apprentissage, déterminer une règle permettant de prédire l’étiquette de nouveaux points, dont on connaît seulement les __*descripteurs*__(coordonnées) mais pas l’__*étiquette*__.\n",
    "\n",
    "![jeu-apprentissage](app1.png)\n",
    "\n",
    "Le **principe** des **k plus proches voisins** est de considérer que l'étiquette du nouveau point sera l'étiquette majoritaire de ses k plus proches voisins.\n",
    "\n",
    "![jeu-apprentissage](app2.png)![jeu-apprentissage](app3.png)\n",
    "\n",
    "***On voit très bien que la prédiction de l'étiquette du point à deviner dépend donc de `k`.***"
   ]
  },
  {
   "cell_type": "markdown",
   "metadata": {},
   "source": [
    "# Mise en application pratique.\n",
    "\n",
    "Nous allons travailler en python sur une source de données regroupées dans un fichier csv. Ce fichier est nommé `iris.data`et est un jeu de données appelé [Iris de Fisher](https://fr.wikipedia.org/wiki/Iris_de_Fisher).\n",
    "\n",
    "Le jeu de données comprend 50 échantillons de chacune des trois espèces d'iris (*Iris setosa*, *Iris virginica* et *Iris versicolor*).  Quatre caractéristiques ont été mesurées à partir de chaque échantillon : la longueur et la largeur des sépales et des pétales, en centimètres.\n",
    "\n",
    "Les données dans le fichier csv sont dans cet ordre :  \n",
    "longueur sépale, largeur sépale, longueur pétale, largeur pétale, nom espèce.\n",
    "\n",
    "Afin de simplifier les choses, **nous ne prendrons que deux descripteurs pour deux espèces** : ***la longueur et la largeur des pétales pour Iris Versicolor et Iris Virginica***.\n",
    "\n",
    "Dans les activité qui suivent, les fonctions vous sont données et expliquées. **L'objectif est de les utiliser correctement pour arriver à vos fins à chaque étape**.\n",
    "\n",
    "Pour les plus curieux, les fonctions sont documentées, mais il n'est pas necessaire de comprendre le code pour réaliser cette activité.\n",
    "\n",
    "<div class=\"alert alert-block alert-danger\">\n",
    "\n",
    "# Il ne vous est donc pas demandé d'écrire des programmes en python mais simplement d'executer des fonctions python et d'analyser les résultats obtenus.\n",
    "</div>"
   ]
  },
  {
   "cell_type": "markdown",
   "metadata": {},
   "source": [
    "# 1- Ouvrir un fichier csv et mettre les données dans un tableau\n",
    "Cette première fonction va permettre :\n",
    "* d'ouvrir le fichier csv contenant les données sur Iris\n",
    "* de sélectionner uniquement les données de longueur et largeur des pétales\n",
    "* de selectionner uniquement *Iris virginica* et *Iris versicolor*\n",
    "* de mettre les données selectionnées dans une liste exploitable.\n",
    "\n",
    "<div class=\"alert alert-block alert-info\">\n",
    "    \n",
    "Cette fonction necessite deux arguments :  \n",
    "* `nomFichier` qui est le `\"nom du fichier csv\"` (fichier qui doit être placé dans le même dossier que ce notebook).\n",
    "* `affiche` qui prendra la valeur `\"O\"` ou `\"N\"` pour l'affichage des données après traitement (`\"O\"`) ou non (`\"N\"`)\n",
    "</div\n",
    "\n",
    "<div class=\"alert alert-block alert-info\">\n",
    "\n",
    "On appelle cette fonction ainsi : `Data = lectureCSViris(\"nomfichiercsv\",\"O\")` pour afficher les données ou `Data = lectureCSViris(\"nomfichiercsv\",\"N\")` pour ne pas les afficher. Dans tous les cas vous recupérerez vos données traitées dans la variable `Data`.\n",
    "</div>"
   ]
  },
  {
   "cell_type": "code",
   "execution_count": 1,
   "metadata": {},
   "outputs": [],
   "source": [
    "################################################################\n",
    "# EXECUTEZ SIMPLEMENT CETTE CELLULE POUR MEMORISER LA FONCTION #\n",
    "################################################################\n",
    "\n",
    "import csv # importation de la bibliothèque qui permet de lire les fichiers csv\n",
    "from math import sqrt # importation sqrt (racine carrée) de la bibliothèque math\n",
    "\n",
    "def lectureCSViris(nomFichier,affiche):\n",
    "    ''' lectureCSViris(nomFichier,affiche) attend deux arguments : le \"nom du fichier\" à ouvrir\n",
    "    suivi de \"O\" pour afficher les donneés traitées ou de \"N\" pour ne pas les afficher.\n",
    "    Elle retourne les données traitées dans une liste.'''\n",
    "    fichierCSV = open(nomFichier,\"r\")             # On ouvre le fichier csv\n",
    "    lignes = csv.reader(fichierCSV)               # On lit les données du fichier\n",
    "    liste = list(lignes)                          # On met ces données sous forme de liste\n",
    "    data = []                                     # On crée une liste vide pour recevoir nos données\n",
    "    for i in range(len(liste)):                   # Boucle qui va parcourir toute la liste\n",
    "        if liste[i][4] != 'Iris-setosa':          # On ne prend pas les données Iris-setosa, que les autres\n",
    "            tempdata = []                         # On crée une liste temporaire\n",
    "            for j in range (2,len(liste[i])):     # On parcourt les éléments de la liste pétale et etiquette\n",
    "                tempdata.append(liste[i][j])      # On les ajoute dans la liste temporaire\n",
    "            data.append(tempdata)                 # On ajoute cette liste temporaire terminée à la liste des données\n",
    "    for i in range(len(data)):\n",
    "        for j in range(len(data[i])-1):\n",
    "            data[i][j] = float(data[i][j])        # Ici on converti les données string en flottant\n",
    "        if affiche == \"O\":                        # Cette partie permet l'affichage si demandé\n",
    "            print(data[i])\n",
    "    return data                                   # Retourne la liste de données"
   ]
  },
  {
   "cell_type": "markdown",
   "metadata": {},
   "source": [
    "<div class=\"alert alert-block alert-danger\">\n",
    "\n",
    "***QUESTION 1*** : Le fichier csv contenant les données iris s'appelle `iris.data`. Appellez la fonction lectureCSViris() dans la cellule ci dessous afin d'obtenir dans la variable `Data` les longueurs et largeurs des pétales pour *Iris Versicolor* et *Iris Virginica*. Vous pouvez afficher le résultat pour vérifier.\n",
    "</div>"
   ]
  },
  {
   "cell_type": "code",
   "execution_count": 2,
   "metadata": {},
   "outputs": [
    {
     "name": "stdout",
     "output_type": "stream",
     "text": [
      "[4.7, 1.4, 'Iris-versicolor']\n",
      "[4.5, 1.5, 'Iris-versicolor']\n",
      "[4.9, 1.5, 'Iris-versicolor']\n",
      "[4.0, 1.3, 'Iris-versicolor']\n",
      "[4.6, 1.5, 'Iris-versicolor']\n",
      "[4.5, 1.3, 'Iris-versicolor']\n",
      "[4.7, 1.6, 'Iris-versicolor']\n",
      "[3.3, 1.0, 'Iris-versicolor']\n",
      "[4.6, 1.3, 'Iris-versicolor']\n",
      "[3.9, 1.4, 'Iris-versicolor']\n",
      "[3.5, 1.0, 'Iris-versicolor']\n",
      "[4.2, 1.5, 'Iris-versicolor']\n",
      "[4.0, 1.0, 'Iris-versicolor']\n",
      "[4.7, 1.4, 'Iris-versicolor']\n",
      "[3.6, 1.3, 'Iris-versicolor']\n",
      "[4.4, 1.4, 'Iris-versicolor']\n",
      "[4.5, 1.5, 'Iris-versicolor']\n",
      "[4.1, 1.0, 'Iris-versicolor']\n",
      "[4.5, 1.5, 'Iris-versicolor']\n",
      "[3.9, 1.1, 'Iris-versicolor']\n",
      "[4.8, 1.8, 'Iris-versicolor']\n",
      "[4.0, 1.3, 'Iris-versicolor']\n",
      "[4.9, 1.5, 'Iris-versicolor']\n",
      "[4.7, 1.2, 'Iris-versicolor']\n",
      "[4.3, 1.3, 'Iris-versicolor']\n",
      "[4.4, 1.4, 'Iris-versicolor']\n",
      "[4.8, 1.4, 'Iris-versicolor']\n",
      "[5.0, 1.7, 'Iris-versicolor']\n",
      "[4.5, 1.5, 'Iris-versicolor']\n",
      "[3.5, 1.0, 'Iris-versicolor']\n",
      "[3.8, 1.1, 'Iris-versicolor']\n",
      "[3.7, 1.0, 'Iris-versicolor']\n",
      "[3.9, 1.2, 'Iris-versicolor']\n",
      "[5.1, 1.6, 'Iris-versicolor']\n",
      "[4.5, 1.5, 'Iris-versicolor']\n",
      "[4.5, 1.6, 'Iris-versicolor']\n",
      "[4.7, 1.5, 'Iris-versicolor']\n",
      "[4.4, 1.3, 'Iris-versicolor']\n",
      "[4.1, 1.3, 'Iris-versicolor']\n",
      "[4.0, 1.3, 'Iris-versicolor']\n",
      "[4.4, 1.2, 'Iris-versicolor']\n",
      "[4.6, 1.4, 'Iris-versicolor']\n",
      "[4.0, 1.2, 'Iris-versicolor']\n",
      "[3.3, 1.0, 'Iris-versicolor']\n",
      "[4.2, 1.3, 'Iris-versicolor']\n",
      "[4.2, 1.2, 'Iris-versicolor']\n",
      "[4.2, 1.3, 'Iris-versicolor']\n",
      "[4.3, 1.3, 'Iris-versicolor']\n",
      "[3.0, 1.1, 'Iris-versicolor']\n",
      "[4.1, 1.3, 'Iris-versicolor']\n",
      "[6.0, 2.5, 'Iris-virginica']\n",
      "[5.1, 1.9, 'Iris-virginica']\n",
      "[5.9, 2.1, 'Iris-virginica']\n",
      "[5.6, 1.8, 'Iris-virginica']\n",
      "[5.8, 2.2, 'Iris-virginica']\n",
      "[6.6, 2.1, 'Iris-virginica']\n",
      "[4.5, 1.7, 'Iris-virginica']\n",
      "[6.3, 1.8, 'Iris-virginica']\n",
      "[5.8, 1.8, 'Iris-virginica']\n",
      "[6.1, 2.5, 'Iris-virginica']\n",
      "[5.1, 2.0, 'Iris-virginica']\n",
      "[5.3, 1.9, 'Iris-virginica']\n",
      "[5.5, 2.1, 'Iris-virginica']\n",
      "[5.0, 2.0, 'Iris-virginica']\n",
      "[5.1, 2.4, 'Iris-virginica']\n",
      "[5.3, 2.3, 'Iris-virginica']\n",
      "[5.5, 1.8, 'Iris-virginica']\n",
      "[6.7, 2.2, 'Iris-virginica']\n",
      "[6.9, 2.3, 'Iris-virginica']\n",
      "[5.0, 1.5, 'Iris-virginica']\n",
      "[5.7, 2.3, 'Iris-virginica']\n",
      "[4.9, 2.0, 'Iris-virginica']\n",
      "[6.7, 2.0, 'Iris-virginica']\n",
      "[4.9, 1.8, 'Iris-virginica']\n",
      "[5.7, 2.1, 'Iris-virginica']\n",
      "[6.0, 1.8, 'Iris-virginica']\n",
      "[4.8, 1.8, 'Iris-virginica']\n",
      "[4.9, 1.8, 'Iris-virginica']\n",
      "[5.6, 2.1, 'Iris-virginica']\n",
      "[5.8, 1.6, 'Iris-virginica']\n",
      "[6.1, 1.9, 'Iris-virginica']\n",
      "[6.4, 2.0, 'Iris-virginica']\n",
      "[5.6, 2.2, 'Iris-virginica']\n",
      "[5.1, 1.5, 'Iris-virginica']\n",
      "[5.6, 1.4, 'Iris-virginica']\n",
      "[6.1, 2.3, 'Iris-virginica']\n",
      "[5.6, 2.4, 'Iris-virginica']\n",
      "[5.5, 1.8, 'Iris-virginica']\n",
      "[4.8, 1.8, 'Iris-virginica']\n",
      "[5.4, 2.1, 'Iris-virginica']\n",
      "[5.6, 2.4, 'Iris-virginica']\n",
      "[5.1, 2.3, 'Iris-virginica']\n",
      "[5.1, 1.9, 'Iris-virginica']\n",
      "[5.9, 2.3, 'Iris-virginica']\n",
      "[5.7, 2.5, 'Iris-virginica']\n",
      "[5.2, 2.3, 'Iris-virginica']\n",
      "[5.0, 1.9, 'Iris-virginica']\n",
      "[5.2, 2.0, 'Iris-virginica']\n",
      "[5.4, 2.3, 'Iris-virginica']\n",
      "[5.1, 1.8, 'Iris-virginica']\n"
     ]
    }
   ],
   "source": [
    "#########################################################################################################\n",
    "# ENTREZ ICI L'APPEL DE LA FONCTION lectureCSViris(). Les données seront stockées dans la variable Data #\n",
    "#########################################################################################################\n",
    "\n",
    "#votre code\n",
    "Data = lectureCSViris(\"iris.data\",\"O\")"
   ]
  },
  {
   "cell_type": "markdown",
   "metadata": {},
   "source": [
    "<div class=\"alert alert-success\">\n",
    "\n",
    "A partir de maintenant :\n",
    "* la variable `Data` contient vos 100 données sur longueur et largeur des pétales de *Iris versicolor* et *Iris virginica*.\n",
    "</div>"
   ]
  },
  {
   "cell_type": "markdown",
   "metadata": {},
   "source": [
    "# 2- Réaliser un affichage graphique des données\n",
    "\n",
    "Nous allons utliser la bibliothèque matplotlib pour afficher graphiquement nos points. Cette bibliothèque n'étant pas intégrée à python, il faudra peut être exéccuter la cellule suivante pour l'installer:"
   ]
  },
  {
   "cell_type": "code",
   "execution_count": 3,
   "metadata": {},
   "outputs": [
    {
     "name": "stdout",
     "output_type": "stream",
     "text": [
      "Requirement already satisfied: matplotlib in c:\\python37\\lib\\site-packages (3.0.3)\n",
      "Requirement already satisfied: python-dateutil>=2.1 in c:\\python37\\lib\\site-packages (from matplotlib) (2.8.0)\n",
      "Requirement already satisfied: numpy>=1.10.0 in c:\\python37\\lib\\site-packages (from matplotlib) (1.16.2)\n",
      "Requirement already satisfied: cycler>=0.10 in c:\\python37\\lib\\site-packages (from matplotlib) (0.10.0)\n",
      "Requirement already satisfied: kiwisolver>=1.0.1 in c:\\python37\\lib\\site-packages (from matplotlib) (1.0.1)\n",
      "Requirement already satisfied: pyparsing!=2.0.4,!=2.1.2,!=2.1.6,>=2.0.1 in c:\\python37\\lib\\site-packages (from matplotlib) (2.4.0)\n",
      "Requirement already satisfied: six>=1.5 in c:\\python37\\lib\\site-packages (from python-dateutil>=2.1->matplotlib) (1.12.0)\n",
      "Requirement already satisfied: setuptools in c:\\python37\\lib\\site-packages (from kiwisolver>=1.0.1->matplotlib) (45.2.0)\n",
      "Note: you may need to restart the kernel to use updated packages.\n"
     ]
    },
    {
     "name": "stderr",
     "output_type": "stream",
     "text": [
      "WARNING: You are using pip version 20.0.2; however, version 20.1 is available.\n",
      "You should consider upgrading via the 'c:\\python37\\python.exe -m pip install --upgrade pip' command.\n"
     ]
    }
   ],
   "source": [
    "pip install matplotlib"
   ]
  },
  {
   "cell_type": "markdown",
   "metadata": {},
   "source": [
    "<div class=\"alert alert-block alert-info\">\n",
    "\n",
    "La fonction suivante affiche **pour une liste déjà traité avec lectureCSViris()**, un affichage graphique des données...\n",
    "Elle demande en argument uniquement le fichier de données.\n",
    "</div>"
   ]
  },
  {
   "cell_type": "code",
   "execution_count": 4,
   "metadata": {},
   "outputs": [],
   "source": [
    "################################################################\n",
    "# EXECUTEZ SIMPLEMENT CETTE CELLULE POUR MEMORISER LA FONCTION #\n",
    "################################################################\n",
    "\n",
    "import matplotlib.pyplot as plt # importation de la bibliothèque qui permet la représentation graphique\n",
    "\n",
    "def affichageGraph(donnees):\n",
    "    ''' Cette fonction affiche sous forme graphique un jeu de données déjà traité par la fonction \n",
    "    lectureCSViris()'''\n",
    "    versicolorX,versicolorY,virginicaX,virginicaY = [],[],[],[] # On crée 4 listes de coordonées\n",
    "    for i in range(len(donnees)):                               # Boucle qui crée les listes de coordonnées\n",
    "        if donnees[i][2] == 'Iris-versicolor':\n",
    "            versicolorX.append(donnees[i][0])\n",
    "            versicolorY.append(donnees[i][1])\n",
    "        else:\n",
    "            virginicaX.append(donnees[i][0])\n",
    "            virginicaY.append(donnees[i][1])\n",
    "    plt.plot(versicolorX, versicolorY, 'bo', label = 'iris-versicolor')      # On place les points des listes\n",
    "    plt.plot(virginicaX, virginicaY, 'r+', label = 'iris-virginica')\n",
    "    plt.legend(bbox_to_anchor=(1.05, 1), loc='upper left', borderaxespad=0.) # On définit les légendes\n",
    "    plt.xlabel('longueur pétales')\n",
    "    plt.ylabel('largeur pétales')\n",
    "    plt.show()                                                               # On affiche le graphique"
   ]
  },
  {
   "cell_type": "markdown",
   "metadata": {},
   "source": [
    "<div class=\"alert alert-block alert-danger\">\n",
    "\n",
    "***QUESTION 2*** : Appellez la fonction affichageGraph() dans la cellule ci dessous afin d'obtenir une représentation graphique des longueurs et largeurs des pétales pour *Iris Versicolor* et *Iris Virginica*.\n",
    "</div>"
   ]
  },
  {
   "cell_type": "code",
   "execution_count": 5,
   "metadata": {},
   "outputs": [
    {
     "data": {
      "image/png": "[encoded data removed]",
      "text/plain": [
       "<Figure size 432x288 with 1 Axes>"
      ]
     },
     "metadata": {
      "needs_background": "light"
     },
     "output_type": "display_data"
    }
   ],
   "source": [
    "############################################################################################################\n",
    "# ENTREZ ICI L'APPEL DE LA FONCTION affichageGraph() avec la variable Data obtenu précedement en argument. #\n",
    "############################################################################################################\n",
    "\n",
    "#votre code\n",
    "affichageGraph(Data)"
   ]
  },
  {
   "cell_type": "markdown",
   "metadata": {},
   "source": [
    "# 3- Les principes de l'apprentissage machine : un ensemble d'entrainement et un ensemble de test\n",
    "\n",
    "Pour apprendre, notre machine va devoir disposer d'un **ensemble d'apprentissage** et d'un **ensemble de test**. On va utiliser notre ensemble de données iris.data que l'on va découper en deux : un certain pourcentage `p` de cet ensemble servira d'ensemble d'**apprentissage** et le reste servira d'ensemble de **test** à notre machine.\n",
    "\n",
    "La machine va donc s'entrainer sur l'ensemble d'apprentissage (que l'on nommera `entrainement`) et testera son apprentissage sur l'ensemble de test (que l'on nommera `test`), l'objectif étant d'avoir le moins d'erreurs possibles de prédiction sur l'ensemble de test.\n",
    "\n",
    "<div class=\"alert alert-block alert-info\">\n",
    "    \n",
    "Dans un premier temps nous allons prendre chaque point de notre jeu d'apprentissage et faire une prediction en se basant sur les k plus proches voisins de ce jeu. Nous ferons varier k afin de determiner le meilleur (celui avec lequel il y a le moins d'erreurs).\n",
    "Nous appliquereons ensuite notre meilleur k sur l'ensemble de test : chaque point de l'ensemble de test sera considéré comme étiquette inconnue, nous le placerons parmi nos points de l'ensemble d'entrainement, l'alogorithme des k plus proches voisins nous donnera une prédiction d'étiquette et nous comptabliserons les erreurs de prédiction.\n",
    "</div>"
   ]
  },
  {
   "cell_type": "markdown",
   "metadata": {},
   "source": [
    "# 4- Création de notre ensemble d'apprentissage et de test à partir de notre ensemble de données Data.\n",
    "\n",
    "<div class=\"alert alert-block alert-info\">\n",
    "    \n",
    "La fonction `creationJeuDeDonnees(p,data)` suivante permet de créer un jeu de test de `p` pourcents de l'ensemble de données `data`. Elle renvoie donc deux valeurs, la première étant les données qui serviront au jeu d'entrainement et la deuxième au jeu de test.\n",
    "\n",
    "Le jeu de test sera de 30% des données, le jeu d'entrainement de 70% des données.\n",
    "</div>"
   ]
  },
  {
   "cell_type": "code",
   "execution_count": 6,
   "metadata": {},
   "outputs": [],
   "source": [
    "################################################################\n",
    "# EXECUTEZ SIMPLEMENT CETTE CELLULE POUR MEMORISER LA FONCTION #\n",
    "################################################################\n",
    "\n",
    "from random import shuffle\n",
    "\n",
    "def creationJeuxDeDonnees(p,dataset):\n",
    "    ''' Cette fonction crée un jeu de données de test de p pourcents de l'ensemble de données dataset\n",
    "    et le reste étant un jeu de données d\\entrainement'''\n",
    "    listeIndices = [i for i in range(len(dataset))] # On crée une liste des indices de nos données (1,2,3,4...n)\n",
    "    shuffle(listeIndices) # On mélange aléatoirement cette liste d'indices\n",
    "    testI = listeIndices[0:int(p/100*len(dataset))] # et on on prend les p pourcents premiers pour le test\n",
    "    entrainementI = listeIndices[int(p/100*len(dataset)):len(dataset)] # et le reste pour l'entrainement\n",
    "    test = [dataset[i] for i in testI] # On crée notre liste test à partir des indices\n",
    "    entrainement = [dataset[i] for i in entrainementI] # On crée notre liste entrainement à partir des indices\n",
    "    return entrainement,test # Ainsi on obtient deux jeux différents à chaque fois que l'on uilise cette fonction."
   ]
  },
  {
   "cell_type": "code",
   "execution_count": 7,
   "metadata": {},
   "outputs": [
    {
     "name": "stdout",
     "output_type": "stream",
     "text": [
      "[[4.8, 1.8, 'Iris-virginica'], [3.3, 1.0, 'Iris-versicolor'], [5.0, 1.7, 'Iris-versicolor'], [6.4, 2.0, 'Iris-virginica'], [4.4, 1.2, 'Iris-versicolor'], [5.7, 2.1, 'Iris-virginica'], [4.8, 1.4, 'Iris-versicolor'], [6.0, 2.5, 'Iris-virginica'], [5.6, 2.4, 'Iris-virginica'], [4.9, 1.5, 'Iris-versicolor'], [6.9, 2.3, 'Iris-virginica'], [4.4, 1.4, 'Iris-versicolor'], [4.2, 1.2, 'Iris-versicolor'], [4.6, 1.4, 'Iris-versicolor'], [5.1, 1.9, 'Iris-virginica'], [3.9, 1.4, 'Iris-versicolor'], [4.9, 1.8, 'Iris-virginica'], [4.6, 1.3, 'Iris-versicolor'], [4.5, 1.3, 'Iris-versicolor'], [4.9, 2.0, 'Iris-virginica'], [5.2, 2.0, 'Iris-virginica'], [6.1, 1.9, 'Iris-virginica'], [6.1, 2.3, 'Iris-virginica'], [5.2, 2.3, 'Iris-virginica'], [5.6, 2.2, 'Iris-virginica'], [3.7, 1.0, 'Iris-versicolor'], [5.6, 2.1, 'Iris-virginica'], [4.0, 1.0, 'Iris-versicolor'], [5.5, 1.8, 'Iris-virginica'], [4.2, 1.3, 'Iris-versicolor'], [5.8, 1.6, 'Iris-virginica'], [4.3, 1.3, 'Iris-versicolor'], [3.6, 1.3, 'Iris-versicolor'], [4.4, 1.4, 'Iris-versicolor'], [4.5, 1.5, 'Iris-versicolor'], [4.0, 1.3, 'Iris-versicolor'], [4.5, 1.5, 'Iris-versicolor'], [5.1, 2.4, 'Iris-virginica'], [3.5, 1.0, 'Iris-versicolor'], [5.4, 2.3, 'Iris-virginica'], [4.7, 1.5, 'Iris-versicolor'], [5.1, 1.8, 'Iris-virginica'], [4.1, 1.0, 'Iris-versicolor'], [6.7, 2.2, 'Iris-virginica'], [5.0, 1.9, 'Iris-virginica'], [5.6, 1.4, 'Iris-virginica'], [5.1, 2.0, 'Iris-virginica'], [5.1, 2.3, 'Iris-virginica'], [5.5, 2.1, 'Iris-virginica'], [4.0, 1.3, 'Iris-versicolor'], [6.1, 2.5, 'Iris-virginica'], [5.9, 2.1, 'Iris-virginica'], [3.9, 1.1, 'Iris-versicolor'], [5.7, 2.3, 'Iris-virginica'], [6.0, 1.8, 'Iris-virginica'], [3.8, 1.1, 'Iris-versicolor'], [5.0, 1.5, 'Iris-virginica'], [4.0, 1.2, 'Iris-versicolor'], [4.7, 1.2, 'Iris-versicolor'], [4.9, 1.8, 'Iris-virginica'], [5.8, 2.2, 'Iris-virginica'], [5.3, 2.3, 'Iris-virginica'], [5.6, 2.4, 'Iris-virginica'], [6.6, 2.1, 'Iris-virginica'], [5.7, 2.5, 'Iris-virginica'], [3.5, 1.0, 'Iris-versicolor'], [4.7, 1.4, 'Iris-versicolor'], [5.1, 1.9, 'Iris-virginica'], [4.5, 1.7, 'Iris-virginica'], [3.3, 1.0, 'Iris-versicolor']]\n",
      "[[5.3, 1.9, 'Iris-virginica'], [3.0, 1.1, 'Iris-versicolor'], [5.1, 1.6, 'Iris-versicolor'], [4.0, 1.3, 'Iris-versicolor'], [4.7, 1.6, 'Iris-versicolor'], [5.0, 2.0, 'Iris-virginica'], [4.2, 1.3, 'Iris-versicolor'], [5.4, 2.1, 'Iris-virginica'], [4.8, 1.8, 'Iris-versicolor'], [4.3, 1.3, 'Iris-versicolor'], [6.7, 2.0, 'Iris-virginica'], [4.1, 1.3, 'Iris-versicolor'], [5.1, 1.5, 'Iris-virginica'], [4.6, 1.5, 'Iris-versicolor'], [4.4, 1.3, 'Iris-versicolor'], [5.5, 1.8, 'Iris-virginica'], [4.2, 1.5, 'Iris-versicolor'], [5.6, 1.8, 'Iris-virginica'], [4.8, 1.8, 'Iris-virginica'], [5.8, 1.8, 'Iris-virginica'], [3.9, 1.2, 'Iris-versicolor'], [5.9, 2.3, 'Iris-virginica'], [6.3, 1.8, 'Iris-virginica'], [4.5, 1.5, 'Iris-versicolor'], [4.5, 1.6, 'Iris-versicolor'], [4.5, 1.5, 'Iris-versicolor'], [4.5, 1.5, 'Iris-versicolor'], [4.1, 1.3, 'Iris-versicolor'], [4.7, 1.4, 'Iris-versicolor'], [4.9, 1.5, 'Iris-versicolor']]\n"
     ]
    }
   ],
   "source": [
    "#################################################################################\n",
    "# LANCEZ CETTE LIGNE DE COMMANDE POUR CREER VOTRE JEU DE TEST ET D'ENTRAINEMENT #\n",
    "#################################################################################\n",
    "\n",
    "Entrainement, Test = creationJeuxDeDonnees(30,Data)\n",
    "print(Entrainement)\n",
    "print(Test)"
   ]
  },
  {
   "cell_type": "markdown",
   "metadata": {},
   "source": [
    "<div class=\"alert alert-success\">\n",
    "\n",
    "A partir de maintenant :\n",
    "* la variable `Entrainement` contient vos 70 données du jeu d'entrainement.\n",
    "* la variable `Test` contient vos 20 données du jeu de test.\n",
    "</div>"
   ]
  },
  {
   "cell_type": "markdown",
   "metadata": {},
   "source": [
    "<div class=\"alert alert-block alert-danger\">\n",
    "\n",
    "***QUESTION 3*** : Faites une représentation graphique des ces deux jeux à l'aide de la fonction affichageGraph() dans la cellule suivante :\n",
    "</div>"
   ]
  },
  {
   "cell_type": "code",
   "execution_count": 8,
   "metadata": {},
   "outputs": [
    {
     "name": "stdout",
     "output_type": "stream",
     "text": [
      "Affichage du jeu d'entrainement :\n"
     ]
    },
    {
     "data": {
      "image/png": "[encoded data removed]",
      "text/plain": [
       "<Figure size 432x288 with 1 Axes>"
      ]
     },
     "metadata": {
      "needs_background": "light"
     },
     "output_type": "display_data"
    },
    {
     "name": "stdout",
     "output_type": "stream",
     "text": [
      "Affichage du jeu de test :\n"
     ]
    },
    {
     "data": {
      "image/png": "[encoded data removed]",
      "text/plain": [
       "<Figure size 432x288 with 1 Axes>"
      ]
     },
     "metadata": {
      "needs_background": "light"
     },
     "output_type": "display_data"
    }
   ],
   "source": [
    "###############################################################################################\n",
    "# ENTREZ ICI LES APPELS DE LA FONCTION affichageGraph() AVEC LES BONNES VARIABLES EN ARGUMENT #\n",
    "# AFIN D'AFFICHER GRAPHIIQUEMENT NOS DEUX JEUX DE TEST ET D'ENTRAINEMENT.                     #\n",
    "###############################################################################################\n",
    "\n",
    "print(\"Affichage du jeu d'entrainement :\")\n",
    "#votre code\n",
    "affichageGraph(Entrainement)\n",
    "\n",
    "print(\"Affichage du jeu de test :\")\n",
    "#votre code\n",
    "affichageGraph(Test)"
   ]
  },
  {
   "cell_type": "markdown",
   "metadata": {},
   "source": [
    "# 5- Calcul de la distance entre deux points.\n",
    "\n",
    "Afin de déterminer les voisins proches, il est nécessaire de calculer la distance entre deux points. On va utiliser la distance euclidienne : la distance entre deux points `x=[x_1,...,x_n]` et `y=[y_1,...,y_n]` est \n",
    "\n",
    "$$\n",
    "d(x,y) = \\sqrt{\\sum_{i=1}^n (x_i-y_i)^2}\n",
    "$$\n",
    "\n",
    "<div class=\"alert alert-block alert-info\">\n",
    "    \n",
    "La fonction `distance(data,i1,i2)` suivante permet de calculer la distance entre deux points situés aux indices `i1` et `i2` d'un ensemble de données `data`.\n",
    "</div>"
   ]
  },
  {
   "cell_type": "code",
   "execution_count": 9,
   "metadata": {},
   "outputs": [],
   "source": [
    "################################################################\n",
    "# EXECUTEZ SIMPLEMENT CETTE CELLULE POUR MEMORISER LA FONCTION #\n",
    "################################################################\n",
    "\n",
    "def distance(data,i1,i2):\n",
    "    ''' calcule la distance euclidienne entre deux points de la liste du jeu de données data\n",
    "    positionnés aux indices i1 et i2 de la liste data'''\n",
    "    if len(data[i1]) != len(data[i2]):\n",
    "        return \"Erreur : les deux points n'ont pas le même nombre de descripteurs.\"\n",
    "    somme = 0\n",
    "    for i in range(len(data[i1])-1):\n",
    "        somme += (data[i1][i]-data[i2][i]) * (data[i1][i]-data[i2][i])\n",
    "    return sqrt(somme)"
   ]
  },
  {
   "cell_type": "markdown",
   "metadata": {},
   "source": [
    "<div class=\"alert alert-block alert-danger\">\n",
    "\n",
    "***QUESTION 4*** : Faites un test de cette fonction sur votre ensemble d'entrainement à l'aide de la cellule suivante. Vous pouvez essayer avec plusieurs indices entre 0 et 69 (votre ensemble d'entrainement contient 70 valeurs, de l'indice 0 à l'indice 69).\n",
    "</div>"
   ]
  },
  {
   "cell_type": "code",
   "execution_count": 10,
   "metadata": {},
   "outputs": [
    {
     "data": {
      "text/plain": [
       "1.7"
      ]
     },
     "execution_count": 10,
     "metadata": {},
     "output_type": "execute_result"
    }
   ],
   "source": [
    "#######################################################################################################\n",
    "# LANCEZ CETTE LIGNE DE COMMANDE POUR CALCULER LA DISTANCE ENTRE LES POINTS SITUES AUX INDICES 0 et 1 #\n",
    "# DE VOTRE ENSEMBLE D'ENTRAINEMENT (CE SONT LES DEUX PREMIERS POINTS DU JEU D'ENTRAINEMENT)           #\n",
    "# PUIS ENSUITE EN FAISANT VARIER LES INDICES                                                          #\n",
    "#######################################################################################################\n",
    "\n",
    "distance(Entrainement,0,1)"
   ]
  },
  {
   "cell_type": "markdown",
   "metadata": {},
   "source": [
    "# 6- Determination des k plus proches voisins d'un point.\n",
    "\n",
    "On peut maintenant avoir une fonction qui va nous permettre de déterminer les k plus proches voisins d'un point dans un jeu de données.\n",
    "\n",
    "<div class=\"alert alert-info\">\n",
    "\n",
    "C'est ce que fait la fonction suivante `leskPlusProchesVoisins(x, k, data)` qui attend en argument `x` l'indice du point du jeu de données dont veut determiner les k plus proches voisins, `k` la valeur de k, `data` le jeu de données d'entrainement ou de test sur lequel on trouve les k plus proches voisins.\n",
    "</div>"
   ]
  },
  {
   "cell_type": "code",
   "execution_count": 11,
   "metadata": {},
   "outputs": [],
   "source": [
    "################################################################\n",
    "# EXECUTEZ SIMPLEMENT CETTE CELLULE POUR MEMORISER LA FONCTION #\n",
    "################################################################\n",
    "\n",
    "def leskPlusProchesVoisins(x, k, data):\n",
    "    ''' leskPlusProchesVoisins(x, k, data) recherche les k plus proches voisins\n",
    "    du point à l'indice x de la liste du jeu de données data'''\n",
    "    listeDesDistances = []\n",
    "    for indice in range(len(data)): # On parcourt la liste des indices de data\n",
    "        listeDesDistances.append(distance(data, x, indice)) # On alimente la liste des distances\n",
    "    Kppv = [] # On crée une liste vide des k plus proches voisins\n",
    "    for i in range(k): # On boucle k fois\n",
    "        d= float(\"inf\") # d prend une valeur infiniment grande pour commencer\n",
    "        for j in range(len(listeDesDistances)): # On parcourt tous les indices de la liste des distances\n",
    "            if listeDesDistances[j]<d and j != x and data[j] not in Kppv: # on teste la valeur<d et pas la donnée testée et pas déjà dans Kppv\n",
    "                d = listeDesDistances[j] # d prend alors cette valeur car c'est la plus petite découverte\n",
    "                donneeLaPlusProche = data[j] # donneeLaPlusProche prend la valeur de la donnée à l'indice de cette valeur\n",
    "        Kppv.append(donneeLaPlusProche) # Enfin on alimente les Kppv\n",
    "    return Kppv"
   ]
  },
  {
   "cell_type": "markdown",
   "metadata": {},
   "source": [
    "<div class=\"alert alert-block alert-danger\">\n",
    "\n",
    "***QUESTION 5*** : Faites varier indice (min 0 et max 69) et k (min 1 et max 69) afin d'observer le résultat obtenu à l'aide de la fonction leskPlusProchesVoisins().\n",
    "</div>"
   ]
  },
  {
   "cell_type": "code",
   "execution_count": 23,
   "metadata": {},
   "outputs": [
    {
     "name": "stdout",
     "output_type": "stream",
     "text": [
      "Je cherche les k=3 plus proches voisins de [4.1, 1.3, 'Iris-versicolor']\n",
      "[[4.1, 1.3, 'Iris-versicolor'], [4.0, 1.3, 'Iris-versicolor'], [4.2, 1.3, 'Iris-versicolor']]\n"
     ]
    }
   ],
   "source": [
    "###########################################################################################################\n",
    "# LANCEZ CES LIGNES DE COMMANDES POUR TROUVER LES k PLUS PROCHES VOISINS DU POINT SITUE A L'INDICE indice #\n",
    "# DE VOTRE ENSEMBLE D'ENTRAINEMENT. FAITES VARIER indice ET k                                             #\n",
    "###########################################################################################################\n",
    "indice = 1\n",
    "k = 3\n",
    "data = Entrainement\n",
    "\n",
    "print(\"Je cherche les k=\"+str(k)+\" plus proches voisins de \"+str(Entrainement[indice]))\n",
    "print(leskPlusProchesVoisins(indice,k,Entrainement))"
   ]
  },
  {
   "cell_type": "markdown",
   "metadata": {},
   "source": [
    "<div class=\"alert alert-block alert-danger\">\n",
    "\n",
    "***QUESTION 6*** : Proposez pour 3 cas de indice et k différents une prédiction de l'étiquette du\n",
    "    point testé en expliquant comment vous avez fait cette prédiction avec les k plus proches voisins.\n",
    "    Précisez si votre prédiction est bonne.\n",
    "</div>"
   ]
  },
  {
   "cell_type": "markdown",
   "metadata": {},
   "source": [
    "**VOTRE REPONSE ICI :**  \n",
    "Dans chaque cas (indice = 1 / k=3 - indice=12 / k=5 - indice=7 / k=7) j'ai prédit l'étiquette en choisissant celle majoritaire parmis les k plus proches voisins obtenus. Ma prédiction a toujours été bonne..."
   ]
  },
  {
   "cell_type": "markdown",
   "metadata": {},
   "source": [
    "# 7- Determiner l'étiquette d'une donnée par prediction à partir des k plus proches voisins\n",
    "\n",
    "<div class=\"alert alert-info\">\n",
    "    \n",
    "Cette fonction `prediction(x, k, data)` permet de prédire l'étiquette de la donnée d'indice `x` du jeu de données `data` après calcul des `k` plus proches voisins dans le jeu de données `data` basé sur le plus grand nombre d'étiquettes obtenu.\n",
    "Elle retourne la prédiction de l'étiquette à partir des k plus proches voisins et 0 s'il n'y a pas d'erreur de prédiction ou 1 s'il y a erreur.\n",
    "</div>"
   ]
  },
  {
   "cell_type": "code",
   "execution_count": 13,
   "metadata": {},
   "outputs": [],
   "source": [
    "################################################################\n",
    "# EXECUTEZ SIMPLEMENT CETTE CELLULE POUR MEMORISER LA FONCTION #\n",
    "################################################################\n",
    "\n",
    "def prediction(x, k, data):\n",
    "    decomptes = {}\n",
    "    erreur = 0\n",
    "    listeVoisins = leskPlusProchesVoisins(x,k,data)\n",
    "    for v in listeVoisins:\n",
    "        etiquette = v[len(v)-1]\n",
    "        if etiquette in decomptes:\n",
    "            decomptes[etiquette] += 1\n",
    "        else:\n",
    "            decomptes[etiquette]=1\n",
    "    listeTriee=sorted(decomptes.items(), key=lambda t:t[1], reverse=True)\n",
    "    if listeTriee[0][0] != data[x][len(data[x])-1]:\n",
    "        erreur = 1\n",
    "    return listeTriee[0][0],erreur"
   ]
  },
  {
   "cell_type": "markdown",
   "metadata": {},
   "source": [
    "<div class=\"alert alert-block alert-danger\">\n",
    "\n",
    "***QUESTION 7*** : Effectuez une prédiction de l'étiquette d'un point situé à l'indice\n",
    "`indice` de votre jeu d'entrainement en choisissant une valeur à `k` que vous ferez varier.\n",
    "Utilisez votre affichage graphique de la question 3 pour tester un point qui génèrera une erreur\n",
    "de prédiction.\n",
    "</div>"
   ]
  },
  {
   "cell_type": "code",
   "execution_count": 14,
   "metadata": {},
   "outputs": [
    {
     "name": "stdout",
     "output_type": "stream",
     "text": [
      "Point testé : [4.4, 1.2, 'Iris-versicolor']\n",
      "étiquette prédite : Iris-versicolor\n",
      "Numéro d'erreur : 0\n"
     ]
    }
   ],
   "source": [
    "#########################################################################################\n",
    "# LANCEZ CES LIGNES DE COMMANDES POUR EFFECTUER UNE PREDICTION DE L'ETIQUETTE DU POINT  #\n",
    "# SITUE A L'INDICE indice DE VOTRE ENSEMBLE D'ENTRAINEMENT. FAITES VARIER indice ET k   #\n",
    "# VOUS POUVEZ UTILISER VOTRE AFFICHAGE GRAPHIQUE DE LA QUESTION 3 POUR TROUVER UN POINT #\n",
    "# AVEC UN RISQUE D'ERREUR A TESTER ICI SUR VOTRE JEU D'ENTRAINEMENT                     #\n",
    "#########################################################################################\n",
    "indice = 1\n",
    "k = 3\n",
    "data = Entrainement\n",
    "\n",
    "Prediction, Erreur = prediction(indice,k,data)\n",
    "print(\"Point testé : \" + str(Entrainement[indice])+\"\\nétiquette prédite : \"+str(Prediction)+\"\\nNuméro d'erreur : \"+str(Erreur))"
   ]
  },
  {
   "cell_type": "markdown",
   "metadata": {},
   "source": [
    "# 8- Trouvons le meilleur k\n",
    "\n",
    "Nous allons maintenant tester pour un jeu de données `data` contenant n données tous les `k` allant de 1 à n/2 en testant pour chaque cas le nombre d'erreurs.\n",
    "\n",
    "<div class=\"alert alert-info\">\n",
    "    \n",
    "Cette fonction `meilleurK(data, affiche)` affiche un résultat graphique si affiche a la valeur `\"O\"` à partir d'un jeu de données `data`."
   ]
  },
  {
   "cell_type": "code",
   "execution_count": 15,
   "metadata": {},
   "outputs": [],
   "source": [
    "################################################################\n",
    "# EXECUTEZ SIMPLEMENT CETTE CELLULE POUR MEMORISER LA FONCTION #\n",
    "################################################################\n",
    "\n",
    "def meilleurK(data,affiche):\n",
    "    nbEltData = len(data)\n",
    "    maxErreurs = nbEltData\n",
    "    E, K = [], []\n",
    "    for k in range(1,int(nbEltData/2)):\n",
    "        nombreErreurs=0\n",
    "        for indice in range(len(data)):\n",
    "            x,y = prediction(indice, k, data)\n",
    "            if y == 1:\n",
    "                nombreErreurs += 1\n",
    "        E.append(nombreErreurs)\n",
    "        K.append(k)\n",
    "        if maxErreurs > nombreErreurs:\n",
    "            maxErreurs = nombreErreurs\n",
    "            meilleurk = k\n",
    "    if affiche == \"O\":\n",
    "        plt.plot(K, E, '-', label = 'Nombre d\\'erreurs')\n",
    "        plt.legend(bbox_to_anchor=(1.05, 1), loc='upper left', borderaxespad=0.)\n",
    "        plt.xlabel('k')\n",
    "        plt.ylabel('erreurs')\n",
    "        plt.show()\n",
    "        print (\"Meilleur k: \", meilleurk, \" taux d'erreur : \", float((maxErreurs)/len(data)))\n",
    "    return meilleurk"
   ]
  },
  {
   "cell_type": "markdown",
   "metadata": {},
   "source": [
    "<div class=\"alert alert-block alert-danger\">\n",
    "\n",
    "***QUESTION 8*** : Utilisez la fonction suivante pour visualiser le meilleur k de votre\n",
    "jeu d'entrainement.\n",
    "</div>"
   ]
  },
  {
   "cell_type": "code",
   "execution_count": 16,
   "metadata": {},
   "outputs": [
    {
     "data": {
      "image/png": "[encoded data removed]",
      "text/plain": [
       "<Figure size 432x288 with 1 Axes>"
      ]
     },
     "metadata": {
      "needs_background": "light"
     },
     "output_type": "display_data"
    },
    {
     "name": "stdout",
     "output_type": "stream",
     "text": [
      "Meilleur k:  27  taux d'erreur :  0.02857142857142857\n"
     ]
    },
    {
     "data": {
      "text/plain": [
       "27"
      ]
     },
     "execution_count": 16,
     "metadata": {},
     "output_type": "execute_result"
    }
   ],
   "source": [
    "####################################################################################\n",
    "# LANCEZ CETTE FONCTION POUR TROUVER NOTRE MEILLEUR k SUR NOTRE JEU D'ENTRAINEMENT #\n",
    "####################################################################################\n",
    "\n",
    "meilleurK(Entrainement,\"O\")"
   ]
  },
  {
   "cell_type": "markdown",
   "metadata": {},
   "source": [
    "# 9- Calculer le taux d'erreur de données de test pour un k donné sur un jeu d'entrainement\n",
    "\n",
    "<div class=\"alert alert-info\">\n",
    "    \n",
    "Cette fonction `tauxErreur(k,testData,trainData)` va calculer le taux d'erreur de prediction des étiquettes de tous les points de `testData` en utilisant `k` sur le jeu d'entrainement `trainData`.\n",
    "</div>"
   ]
  },
  {
   "cell_type": "code",
   "execution_count": 17,
   "metadata": {},
   "outputs": [],
   "source": [
    "################################################################\n",
    "# EXECUTEZ SIMPLEMENT CETTE CELLULE POUR MEMORISER LA FONCTION #\n",
    "################################################################\n",
    "\n",
    "def tauxErreur(k,trainData,testData):\n",
    "    maxErreurs = len(testData)\n",
    "    nombreErreurs = 0\n",
    "    for indice in range (len(testData)):\n",
    "        tempDatas = []\n",
    "        tempDatas = [i for i in trainData]\n",
    "        tempDatas.append(testData[indice])\n",
    "        x,y = prediction(len(tempDatas)-1, k, tempDatas)\n",
    "        if y == 1:\n",
    "            nombreErreurs += 1\n",
    "    print (\"Taux d'erreur : \", float((nombreErreurs)/len(testData)))"
   ]
  },
  {
   "cell_type": "markdown",
   "metadata": {},
   "source": [
    "<div class=\"alert alert-block alert-danger\">\n",
    "\n",
    "***QUESTION 9*** : Testez la fonction tauxErreur() suivante. Le taux d'erreur obtenu avec le jeu de test est il cohérent ?\n",
    "</div>"
   ]
  },
  {
   "cell_type": "code",
   "execution_count": 18,
   "metadata": {},
   "outputs": [
    {
     "name": "stdout",
     "output_type": "stream",
     "text": [
      "Taux d'erreur :  0.1\n"
     ]
    }
   ],
   "source": [
    "###################################################################################\n",
    "# LANCEZ CETTE FONCTION AVEC VOTRE MEILLEUR k SUR NOTRE JEU D'ENTRAINEMENT        #\n",
    "# AVEC LES DONNEES DE TEST AFIN D'ESTIMER S'IL Y A UNE COHERENCE DE TAUX D'ERREUR #\n",
    "###################################################################################\n",
    "\n",
    "tauxErreur(5,Entrainement,Test)"
   ]
  },
  {
   "cell_type": "markdown",
   "metadata": {},
   "source": [
    "**VOTRE REPONSE ICI :**  \n",
    "Parfois il y a une cohérence et parfois non car le jeu de test affiche un taux d'erreur supérieur à celui obtenu au cours de l'apprentissage... Les deux réponses sont possible...."
   ]
  },
  {
   "cell_type": "markdown",
   "metadata": {},
   "source": [
    "# 10- Mise en route de notre Intelligence Artificielle.\n",
    "\n",
    "Nous avons tout ce qu'il nous faut pour mettre en route notre Intelligence Artificielle.\n",
    "La fonction suivante IA() permettra, à partir d'un fichier iris.data :\n",
    "* de traiter le fichier iris.data pour ne conserver que les dimensions des pétales de iris virginica et iris versicilor.\n",
    "* de créer un jeu de test `test` et un jeu d'appentissage `entrainement` et les afficher en liste et graphiquement.\n",
    "* d'évaluer l'évolution du taux d'erreur en fonction de `k` sur le jeu d'entrainement et d'afficher le résultat graphiquement...\n",
    "* de tester notre meilleur k sur le jeu de test\n"
   ]
  },
  {
   "cell_type": "code",
   "execution_count": 19,
   "metadata": {},
   "outputs": [
    {
     "name": "stdout",
     "output_type": "stream",
     "text": [
      "Voici notre jeu d'entrainement et sa représentation graphique\n",
      " [[5.4, 2.3, 'Iris-virginica'], [4.1, 1.3, 'Iris-versicolor'], [5.6, 2.4, 'Iris-virginica'], [5.8, 1.8, 'Iris-virginica'], [4.7, 1.5, 'Iris-versicolor'], [4.1, 1.3, 'Iris-versicolor'], [5.5, 1.8, 'Iris-virginica'], [6.1, 2.5, 'Iris-virginica'], [5.7, 2.1, 'Iris-virginica'], [5.7, 2.3, 'Iris-virginica'], [5.1, 1.5, 'Iris-virginica'], [5.9, 2.1, 'Iris-virginica'], [4.7, 1.6, 'Iris-versicolor'], [6.1, 2.3, 'Iris-virginica'], [5.6, 1.4, 'Iris-virginica'], [5.6, 2.4, 'Iris-virginica'], [4.9, 1.8, 'Iris-virginica'], [5.1, 2.0, 'Iris-virginica'], [4.5, 1.7, 'Iris-virginica'], [4.0, 1.3, 'Iris-versicolor'], [5.2, 2.3, 'Iris-virginica'], [4.5, 1.5, 'Iris-versicolor'], [3.5, 1.0, 'Iris-versicolor'], [5.8, 1.6, 'Iris-virginica'], [4.0, 1.2, 'Iris-versicolor'], [4.8, 1.8, 'Iris-versicolor'], [5.7, 2.5, 'Iris-virginica'], [4.9, 1.5, 'Iris-versicolor'], [6.0, 2.5, 'Iris-virginica'], [5.1, 1.6, 'Iris-versicolor'], [4.4, 1.3, 'Iris-versicolor'], [4.6, 1.4, 'Iris-versicolor'], [5.1, 1.8, 'Iris-virginica'], [4.6, 1.5, 'Iris-versicolor'], [4.5, 1.3, 'Iris-versicolor'], [5.1, 1.9, 'Iris-virginica'], [4.5, 1.5, 'Iris-versicolor'], [5.3, 2.3, 'Iris-virginica'], [5.6, 2.1, 'Iris-virginica'], [6.1, 1.9, 'Iris-virginica'], [4.4, 1.4, 'Iris-versicolor'], [4.1, 1.0, 'Iris-versicolor'], [5.8, 2.2, 'Iris-virginica'], [6.7, 2.0, 'Iris-virginica'], [6.9, 2.3, 'Iris-virginica'], [5.1, 2.3, 'Iris-virginica'], [4.4, 1.4, 'Iris-versicolor'], [4.9, 1.5, 'Iris-versicolor'], [6.0, 1.8, 'Iris-virginica'], [4.8, 1.4, 'Iris-versicolor'], [3.3, 1.0, 'Iris-versicolor'], [4.2, 1.5, 'Iris-versicolor'], [4.5, 1.6, 'Iris-versicolor'], [4.7, 1.2, 'Iris-versicolor'], [5.5, 2.1, 'Iris-virginica'], [5.5, 1.8, 'Iris-virginica'], [5.3, 1.9, 'Iris-virginica'], [5.0, 1.9, 'Iris-virginica'], [4.3, 1.3, 'Iris-versicolor'], [4.9, 1.8, 'Iris-virginica'], [4.2, 1.3, 'Iris-versicolor'], [5.2, 2.0, 'Iris-virginica'], [6.3, 1.8, 'Iris-virginica'], [5.6, 1.8, 'Iris-virginica'], [4.8, 1.8, 'Iris-virginica'], [4.0, 1.0, 'Iris-versicolor'], [4.7, 1.4, 'Iris-versicolor'], [4.0, 1.3, 'Iris-versicolor'], [3.9, 1.1, 'Iris-versicolor'], [6.6, 2.1, 'Iris-virginica']]\n"
     ]
    },
    {
     "data": {
      "image/png": "[encoded data removed]",
      "text/plain": [
       "<Figure size 432x288 with 1 Axes>"
      ]
     },
     "metadata": {
      "needs_background": "light"
     },
     "output_type": "display_data"
    },
    {
     "name": "stdout",
     "output_type": "stream",
     "text": [
      "Voici notre jeu de test et sa représentation graphique\n",
      " [[4.5, 1.5, 'Iris-versicolor'], [3.7, 1.0, 'Iris-versicolor'], [3.5, 1.0, 'Iris-versicolor'], [5.9, 2.3, 'Iris-virginica'], [3.8, 1.1, 'Iris-versicolor'], [4.3, 1.3, 'Iris-versicolor'], [3.0, 1.1, 'Iris-versicolor'], [3.6, 1.3, 'Iris-versicolor'], [5.0, 1.5, 'Iris-virginica'], [4.7, 1.4, 'Iris-versicolor'], [4.5, 1.5, 'Iris-versicolor'], [5.1, 2.4, 'Iris-virginica'], [4.6, 1.3, 'Iris-versicolor'], [4.5, 1.5, 'Iris-versicolor'], [6.4, 2.0, 'Iris-virginica'], [4.9, 2.0, 'Iris-virginica'], [4.2, 1.3, 'Iris-versicolor'], [6.7, 2.2, 'Iris-virginica'], [3.9, 1.4, 'Iris-versicolor'], [4.2, 1.2, 'Iris-versicolor'], [4.8, 1.8, 'Iris-virginica'], [4.0, 1.3, 'Iris-versicolor'], [5.1, 1.9, 'Iris-virginica'], [5.0, 1.7, 'Iris-versicolor'], [5.6, 2.2, 'Iris-virginica'], [5.4, 2.1, 'Iris-virginica'], [4.4, 1.2, 'Iris-versicolor'], [3.9, 1.2, 'Iris-versicolor'], [5.0, 2.0, 'Iris-virginica'], [3.3, 1.0, 'Iris-versicolor']]\n",
      "Jeu de test:\n"
     ]
    },
    {
     "data": {
      "image/png": "[encoded data removed]",
      "text/plain": [
       "<Figure size 432x288 with 1 Axes>"
      ]
     },
     "metadata": {
      "needs_background": "light"
     },
     "output_type": "display_data"
    },
    {
     "name": "stdout",
     "output_type": "stream",
     "text": [
      "Voici notre meilleur k sur notre jeu d'entrainement :\n"
     ]
    },
    {
     "data": {
      "image/png": "[encoded data removed]",
      "text/plain": [
       "<Figure size 432x288 with 1 Axes>"
      ]
     },
     "metadata": {
      "needs_background": "light"
     },
     "output_type": "display_data"
    },
    {
     "name": "stdout",
     "output_type": "stream",
     "text": [
      "Meilleur k:  31  taux d'erreur :  0.04285714285714286\n",
      "Voici notre taux d'erreur sur le jeu de test avec le meilleur k obtenu à l'entrainement ( 31 ):\n",
      "Taux d'erreur :  0.1\n"
     ]
    }
   ],
   "source": [
    "####################################################\n",
    "# LANCEZ CES LIGNES DE CODE POUR EXECUTER VOTRE IA #\n",
    "####################################################\n",
    "\n",
    "# On ouvre le fichier iris.data et on ne conserve que les pétales pour cersicolor et virginica\n",
    "Data = lectureCSViris(\"iris.data\",\"N\")\n",
    "# On crée nos deux jeux entrainement (70% des données) et test\n",
    "Entrainement, Test = creationJeuxDeDonnees(30,Data)\n",
    "# On affiche\n",
    "print(\"Voici notre jeu d'entrainement et sa représentation graphique\\n\",Entrainement)\n",
    "affichageGraph(Entrainement)\n",
    "print(\"Voici notre jeu de test et sa représentation graphique\\n\",Test)\n",
    "print(\"Jeu de test:\")\n",
    "affichageGraph(Test)\n",
    "# On calcule et on affiche notre meilleur k. On le stocke dans la variable MK\n",
    "print(\"Voici notre meilleur k sur notre jeu d'entrainement :\")\n",
    "MK = meilleurK(Entrainement,\"O\")\n",
    "# On teste notre jeu de test sur notre jeu d'apprentissage avec notre meilleur k\n",
    "print(\"Voici notre taux d'erreur sur le jeu de test avec le meilleur k obtenu à l'entrainement (\",MK,\"):\")\n",
    "tauxErreur(MK,Entrainement,Test)\n"
   ]
  },
  {
   "cell_type": "markdown",
   "metadata": {},
   "source": [
    "<div class=\"alert alert-block alert-danger\">\n",
    "\n",
    "***QUESTION 10*** : Lancez votre IA 5 fois. Pour chaque execution, notez vos résultats dans ce tableau :\n",
    "</div>"
   ]
  },
  {
   "cell_type": "markdown",
   "metadata": {},
   "source": [
    "|Execution|Taux d'erreur ENTRAINEMENT|     Taux d'erreur TEST    |\n",
    "|---------|--------------------------|---------------------------|\n",
    "|1        |          0.042           |            0.033          |\n",
    "|2        |          0.042           |            0.066          |\n",
    "|3        |          0.014           |            0.1            |\n",
    "|4        |          0.057           |            0.133          |\n",
    "|5        |          0.042           |            0.1            |\n",
    "\n",
    "Remplissez les deux colonnes avec vos taux d'erreur obtenus."
   ]
  },
  {
   "cell_type": "markdown",
   "metadata": {},
   "source": [
    "<div class=\"alert alert-block alert-danger\">\n",
    "    \n",
    "***QUESTION 11*** : Que constatez vous sur les variations de taux d'erreurs obtenus entre la phase d'apprentissage et la phase de test ?\n",
    "</div>"
   ]
  },
  {
   "cell_type": "markdown",
   "metadata": {},
   "source": [
    "**VOTRE REPONSE ICI :**  \n",
    "Parfois le taux d'erreur au cours du test est supérieur à celui de l'entrainement..."
   ]
  },
  {
   "cell_type": "markdown",
   "metadata": {},
   "source": [
    "<div class=\"alert alert-block alert-danger\">\n",
    "\n",
    "***QUESTION 12*** : Dans cet exemple, la prédiction peut donc être biaisée car le taux d'erreur varie. Pouvez vous expliquer pourquoi votre taux d'erreur varie à chaque execution ?\n",
    "</div>"
   ]
  },
  {
   "cell_type": "markdown",
   "metadata": {},
   "source": [
    "**VOTRE REPONSE ICI :**  \n",
    "A chaque éxecution on a un échantillon d'apprentissage et de test qui diffère. Le taux d'erreur varie en fonction de ces échantillons."
   ]
  },
  {
   "cell_type": "markdown",
   "metadata": {},
   "source": [
    "<div class=\"alert alert-block alert-danger\">\n",
    "\n",
    "***QUESTION 13*** : Pensez vous que notre IA serait plus ou mins efficace si on augmentait le nombre de données de son jeu d'apprentissage ?\n",
    "</div>"
   ]
  },
  {
   "cell_type": "markdown",
   "metadata": {},
   "source": [
    "**VOTRE REPONSE ICI :**  \n",
    "D'après les résultats obtenus, notre IA serait plus efficace en lui augmentant son jeu de données d'apprentissage."
   ]
  },
  {
   "cell_type": "markdown",
   "metadata": {},
   "source": [
    "<div class=\"alert alert-info\">\n",
    "\n",
    "Depuis son lancement en 2013, l’application Pl@ntNet développée par le Cirad, l’INRA, l’Inria, et l’IRD a permis d’identifier des dizaines de milliers de plantes photographiées partout dans le monde. Dans le cadre du partenariat avec Tela Botanica, une partie des observations faites via Pl@ntNet sont reversées dans la base Flora Data.  \n",
    "Si vous êtes inscrit à Tela Botanica, vous retrouverez donc vos photos identifiées par Pl@ntNet sur IdentiPlante, dans votre Carnet en Ligne, voire éventuellement sur eFlore.\n",
    "![Tela Botanica](telabotanica.png)\n",
    "source : https://www.tela-botanica.org/2018/10/plantnet-mobile-sur-votre-ordinateur/\n",
    "</div>"
   ]
  },
  {
   "cell_type": "markdown",
   "metadata": {},
   "source": [
    "<div class=\"alert alert-block alert-danger\">\n",
    "\n",
    "***QUESTION 14*** : Qu'est-ce qui, d'après ce que vous avez appris, pourrait BIAISER les résultats de notre application Pl@ntNet ?\n",
    "</div>"
   ]
  },
  {
   "cell_type": "markdown",
   "metadata": {},
   "source": [
    "**VOTRE REPONSE ICI :**  \n",
    "Les photos prises et qui alimentent la base de données de reconnaissance peuvent biaiser le résultat si elles ne sont pas de bonne qualité et qu'elles génèrent une prédiction fausse... chaque photo intégrée dans la base comme étant reconnue doit être validée par des experts..."
   ]
  },
  {
   "cell_type": "code",
   "execution_count": null,
   "metadata": {},
   "outputs": [],
   "source": []
  }
 ],
 "metadata": {
  "kernelspec": {
   "display_name": "Python 3",
   "language": "python",
   "name": "python3"
  },
  "language_info": {
   "codemirror_mode": {
    "name": "ipython",
    "version": 3
   },
   "file_extension": ".py",
   "mimetype": "text/x-python",
   "name": "python",
   "nbconvert_exporter": "python",
   "pygments_lexer": "ipython3",
   "version": "3.7.2"
  }
 },
 "nbformat": 4,
 "nbformat_minor": 2
}
